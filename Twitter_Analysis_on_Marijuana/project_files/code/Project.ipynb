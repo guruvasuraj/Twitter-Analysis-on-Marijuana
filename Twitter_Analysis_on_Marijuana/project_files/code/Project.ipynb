{
 "cells": [
  {
   "cell_type": "markdown",
   "metadata": {},
   "source": [
    "# Twitter Analysis on Marijuana\n",
    "**Guru Prasad - A20344932**"
   ]
  },
  {
   "cell_type": "code",
   "execution_count": 1,
   "metadata": {},
   "outputs": [],
   "source": [
    "from StringIO import StringIO\n",
    "import json\n",
    "import urllib2\n",
    "import re\n",
    "from sklearn.cross_validation import KFold\n",
    "from sklearn.feature_extraction.text import CountVectorizer\n",
    "from sklearn.linear_model import LogisticRegression\n",
    "from sklearn.svm import LinearSVC\n",
    "from sklearn.metrics import accuracy_score\n",
    "import hashlib\n",
    "import numpy as np\n",
    "import csv\n",
    "from datetime import datetime, timedelta\n",
    "import pymongo\n",
    "from pymongo import MongoClient\n",
    "from collections import Counter\n",
    "import matplotlib.pyplot as plt\n",
    "%matplotlib inline\n",
    "import pandas as pd\n",
    "from pandas.tools.plotting import scatter_matrix\n",
    "import pickle\n",
    "from sklearn import neighbors\n",
    "from zipfile import ZipFile\n",
    "from sklearn import svm\n",
    "from pylab import *"
   ]
  },
  {
   "cell_type": "markdown",
   "metadata": {},
   "source": [
    "**Collect data from the MongoDB**"
   ]
  },
  {
   "cell_type": "code",
   "execution_count": 2,
   "metadata": {},
   "outputs": [],
   "source": [
    "#Collect the data stored during data collection in MongDB. The client ip address is 192.168.1.124 and port number is 27017\n",
    "#There is no need to run this part of code \n",
    "if False:\n",
    "    client = MongoClient('192.168.1.124', 27017)\n",
    "    db = client.test_database\n",
    "\n",
    "\n",
    "    tweetDB=[]\n",
    "    x=[str(x) for x in db.collection_names() if str(x)!='system.indexes']\n",
    "    tweetDB=[db.get_collection(i) for i in x]\n",
    "\n",
    "\n",
    "\n",
    "\n",
    "    allTweet=[]\n",
    "    for i in tweetDB:\n",
    "        c=tweetDB[1].find()\n",
    "        for i in c:\n",
    "            allTweet.append(i)"
   ]
  },
  {
   "cell_type": "markdown",
   "metadata": {},
   "source": [
    "**Remove non unicode characters from Tweets before writing it into the file**"
   ]
  },
  {
   "cell_type": "code",
   "execution_count": 3,
   "metadata": {},
   "outputs": [],
   "source": [
    "if False:\n",
    "    def unicode_text(text):\n",
    "        string = re.sub('http\\S+', 'THIS_IS_A_URL', text)\n",
    "        tokens = re.findall(r\"\\w+\", string.lower(),flags = re.L)\n",
    "        tokens1 = []\n",
    "        for i in tokens:\n",
    "            x = re.findall(r\"\\w+\", i,flags = re.U)\n",
    "            for j in x:\n",
    "                tokens1.append(j)\n",
    "        return \" \".join(tokens1)"
   ]
  },
  {
   "cell_type": "markdown",
   "metadata": {},
   "source": [
    "**Call the unicode_text function to remove non ascii charaters from tweets,description and user name**"
   ]
  },
  {
   "cell_type": "code",
   "execution_count": 4,
   "metadata": {},
   "outputs": [],
   "source": [
    "if False:\n",
    "    for json in allTweet:\n",
    "        json['text'] = unicode_text(json['text'])\n",
    "        json['user']['description'] = unicode_text(json['user']['description'])\n",
    "        json['user']['name']=unicode_text(json['user']['name'])"
   ]
  },
  {
   "cell_type": "code",
   "execution_count": 5,
   "metadata": {},
   "outputs": [],
   "source": [
    "if False:\n",
    "    tweets = {}\n",
    "    location = {}\n",
    "    user_name = {} \n",
    "    description ={}\n",
    "    hastags = {}\n",
    "    for i in allTweet:\n",
    "        hashtag = []\n",
    "        tweet = []\n",
    "        if i['user']['screen_name'] in tweets.keys():\n",
    "            tweets[i['user']['screen_name']].append(i['text'])\n",
    "        else:\n",
    "            tweets[i['user']['screen_name']]= [i['text']]\n",
    "        location[i['user']['screen_name']] = [i['user']['location']]\n",
    "        user_name[i['user']['screen_name']]= i['user']['name']\n",
    "        for j in i['entities']['hashtags']:\n",
    "            hashtag.append(j['text'])\n",
    "        hastags[i['user']['screen_name']]=hashtag\n",
    "        description[i['user']['screen_name']] =[i['user']['description']]"
   ]
  },
  {
   "cell_type": "markdown",
   "metadata": {},
   "source": [
    "**Extracting the required data from JSON**"
   ]
  },
  {
   "cell_type": "code",
   "execution_count": 6,
   "metadata": {},
   "outputs": [],
   "source": [
    "#Extract the required data for analysis for the JSON to a list to store it in a csv file\n",
    "if False:\n",
    "    data = []\n",
    "    for json in allTweet:\n",
    "        tweet_data = []\n",
    "        tweet_data.append(json['user']['screen_name'])\n",
    "        tweet_data.append(json['user']['description'])\n",
    "        tweet_data.append(json['text'])\n",
    "        tweet_data.append(json['user']['name'])\n",
    "        data.append(tweet_data)"
   ]
  },
  {
   "cell_type": "markdown",
   "metadata": {},
   "source": [
    "**Write the Data to CSV file**"
   ]
  },
  {
   "cell_type": "code",
   "execution_count": 7,
   "metadata": {},
   "outputs": [],
   "source": [
    "if False:\n",
    "    with open('twitter_data.csv', 'w') as fp:\n",
    "        a = csv.writer(fp)\n",
    "        a.writerows(data)"
   ]
  },
  {
   "cell_type": "code",
   "execution_count": 8,
   "metadata": {},
   "outputs": [],
   "source": [
    "if False:\n",
    "    tweet_manual_labelling = []\n",
    "    for i in tweet_test:\n",
    "        if i.split()[0] != 'rt':\n",
    "            tweet_manual_labelling.append((1,i))\n",
    "    with open('tweet_manual_labelling.csv', 'w') as fp1:\n",
    "        filewriter = csv.writer(fp1)\n",
    "        filewriter.writerows(tweet_manual_labelling)"
   ]
  },
  {
   "cell_type": "markdown",
   "metadata": {},
   "source": [
    "**Read Tweets and User name from the csv file**"
   ]
  },
  {
   "cell_type": "code",
   "execution_count": 9,
   "metadata": {},
   "outputs": [],
   "source": [
    "def read_tweets(filename):\n",
    "    tweet_t = []\n",
    "    user_n = []\n",
    "    with open(filename, 'rb') as csvfile:\n",
    "        filereader = csv.reader(csvfile)\n",
    "        for  row in filereader:\n",
    "            tweet_t.append(row[2])\n",
    "            user_n.append(row[3])\n",
    "    return tweet_t,user_n"
   ]
  },
  {
   "cell_type": "code",
   "execution_count": 10,
   "metadata": {},
   "outputs": [],
   "source": [
    "tweet_test, user_name = read_tweets('twitter_data.csv')"
   ]
  },
  {
   "cell_type": "markdown",
   "metadata": {},
   "source": [
    "**Read Manually labled data from CSV file for training**"
   ]
  },
  {
   "cell_type": "code",
   "execution_count": 11,
   "metadata": {},
   "outputs": [],
   "source": [
    "def read_tarining_data(filename):\n",
    "    labeled_tweets = []\n",
    "    labels1 = []\n",
    "    with open(filename, 'rb') as csvfile1:\n",
    "        filereader = csv.reader(csvfile1)\n",
    "        for  row in filereader:\n",
    "            labeled_tweets.append(row[1])\n",
    "            labels1.append(int(row[0]))\n",
    "    return labeled_tweets,np.array(labels1)"
   ]
  },
  {
   "cell_type": "code",
   "execution_count": 12,
   "metadata": {},
   "outputs": [],
   "source": [
    "labeled_tweets,labels = read_tarining_data('tweet_manual_labelling.csv')"
   ]
  },
  {
   "cell_type": "markdown",
   "metadata": {},
   "source": [
    "**Tokenizing Function**"
   ]
  },
  {
   "cell_type": "code",
   "execution_count": 13,
   "metadata": {},
   "outputs": [],
   "source": [
    "def tokenize(text):\n",
    "    tokens = re.findall(r\"\\w+|\\S\", text.lower(),flags = re.L)\n",
    "    tokens1 = []\n",
    "    for i in tokens:\n",
    "        x = re.findall(r\"\\w+|\\S\", i,flags = re.U)\n",
    "        for j in x:\n",
    "            tokens1.append(j)\n",
    "            \n",
    "    return tokens1"
   ]
  },
  {
   "cell_type": "markdown",
   "metadata": {},
   "source": [
    "\n",
    "**Vectorizer**"
   ]
  },
  {
   "cell_type": "code",
   "execution_count": 14,
   "metadata": {},
   "outputs": [],
   "source": [
    "#To convert the tweets into CSR matrix we use this vectorizer fucnction with min_df =1,max_df = 1.,ngram = (1,1) and binary = true\n",
    "def do_vectorize(tokenizer_fn=tokenize, min_df=1,\n",
    "                 max_df=1., binary=True, ngram_range=(1,1)):\n",
    "\n",
    "    lis = ['weed','marijuana','pot','cannabis']#list of stop words\n",
    "    #countvectorizer object\n",
    "    vectorizer = CountVectorizer(input = 'content', tokenizer = tokenizer_fn, min_df=min_df, \n",
    "                                     max_df=max_df, binary=binary, ngram_range=ngram_range,\n",
    "                                 dtype = 'int',analyzer='word',token_pattern='(?u)\\b\\w\\w+\\b',encoding='utf-8' )\n",
    "    return vectorizer"
   ]
  },
  {
   "cell_type": "markdown",
   "metadata": {},
   "source": [
    "**Train Using the manually labled data**"
   ]
  },
  {
   "cell_type": "code",
   "execution_count": 15,
   "metadata": {},
   "outputs": [
    {
     "name": "stdout",
     "output_type": "stream",
     "text": [
      "matrix represents 290 documents with 1842 features\n",
      "first doc has terms:\n",
      "[117, 157, 166, 312, 382, 496, 774, 1023, 1025, 1057, 1202, 1357, 1454, 1533, 1543, 1585]\n"
     ]
    }
   ],
   "source": [
    "vectorizer = do_vectorize() #get the vectorizer object\n",
    "matrix = vectorizer.fit_transform(t for t in labeled_tweets) # learn new words and tranform it to a CSR matrix\n",
    "print ('matrix represents %d documents with %d features' % (matrix.shape[0], matrix.shape[1]))\n",
    "print('first doc has terms:\\n%s' % (str(sorted(matrix[0].nonzero()[1]))))"
   ]
  },
  {
   "cell_type": "markdown",
   "metadata": {},
   "source": [
    "**Shuffle the trained data **"
   ]
  },
  {
   "cell_type": "code",
   "execution_count": 16,
   "metadata": {},
   "outputs": [
    {
     "name": "stdout",
     "output_type": "stream",
     "text": [
      "fourth shuffled document davedtc thanks for the follow we love napa nothing like paring a great wine with an awesome cannabis strain has label 1 and terms: [92, 137, 191, 312, 457, 623, 625, 696, 937, 954, 1091, 1123, 1208, 1511, 1565, 1569, 1727, 1772, 1774]\n"
     ]
    }
   ],
   "source": [
    "def repeatable_random(seed):\n",
    "    hash = str(seed)\n",
    "    while True:\n",
    "        hash = hashlib.md5(hash).digest()\n",
    "        for c in hash:\n",
    "\n",
    "            yield ord(c)\n",
    "\n",
    "def repeatable_shuffle(X, y, labeled_tweets):\n",
    "    r = repeatable_random(42) \n",
    "    indices = sorted(range(X.shape[0]), key=lambda x: next(r))\n",
    "    return X[indices], y[indices], np.array(labeled_tweets)[indices]\n",
    "\n",
    "X, y, twittertweets = repeatable_shuffle(matrix, labels, labeled_tweets)\n",
    "\n",
    "print('fourth shuffled document %s has label %d and terms: %s' % \n",
    "      (twittertweets[4], y[4], sorted(X[4].nonzero()[1])))"
   ]
  },
  {
   "cell_type": "markdown",
   "metadata": {},
   "source": [
    "**Logistic Regression Classifier**"
   ]
  },
  {
   "cell_type": "code",
   "execution_count": 17,
   "metadata": {},
   "outputs": [],
   "source": [
    "def get_clf(C = 1.,penalty = 'l2'):\n",
    "    return LogisticRegression(C = C,penalty=penalty,random_state=42)\n",
    "clf_logistic = get_clf()"
   ]
  },
  {
   "cell_type": "markdown",
   "metadata": {},
   "source": [
    "**LinearSVC Classifier**"
   ]
  },
  {
   "cell_type": "code",
   "execution_count": 18,
   "metadata": {},
   "outputs": [],
   "source": [
    "def get_clf_SVC(C = 1.,penalty = 'l2'):\n",
    "    return LinearSVC(C = C,penalty=penalty,random_state=42)\n",
    "clf_lSVC = get_clf_SVC()"
   ]
  },
  {
   "cell_type": "markdown",
   "metadata": {},
   "source": [
    "**K-Fold cross validation to test the accuracy of prediction model**"
   ]
  },
  {
   "cell_type": "code",
   "execution_count": 19,
   "metadata": {},
   "outputs": [],
   "source": [
    "def do_cross_validation(X, y,clf, n_folds=5):\n",
    "    cv = KFold(len(y), n_folds)\n",
    "    accuracies = []\n",
    "    for train_ind, test_ind in cv: \n",
    "        clf.fit(X[train_ind], y[train_ind])\n",
    "        predictions = clf.predict(X[test_ind])\n",
    "        accuracies.append(accuracy_score(y[test_ind], predictions))\n",
    "    avg = np.mean(accuracies)\n",
    "    return avg"
   ]
  },
  {
   "cell_type": "code",
   "execution_count": 20,
   "metadata": {},
   "outputs": [
    {
     "name": "stdout",
     "output_type": "stream",
     "text": [
      "Average cross validation accuracy for Logistic Regression=78.3 percentage\n"
     ]
    }
   ],
   "source": [
    "logistic_regression_accuracy = (do_cross_validation(X, y,clf_logistic))*100\n",
    "print('Average cross validation accuracy for Logistic Regression=%.1f percentage' % (logistic_regression_accuracy))"
   ]
  },
  {
   "cell_type": "code",
   "execution_count": 21,
   "metadata": {},
   "outputs": [
    {
     "name": "stdout",
     "output_type": "stream",
     "text": [
      "Average cross validation accuracy for LinearSVC=73.8 percentage\n"
     ]
    }
   ],
   "source": [
    "linear_regression_accuracy=(do_cross_validation(X, y,clf_lSVC)*100)\n",
    "print('Average cross validation accuracy for LinearSVC=%.1f percentage' % (linear_regression_accuracy))"
   ]
  },
  {
   "cell_type": "markdown",
   "metadata": {},
   "source": [
    "**Experimenting Validation accuracy on different values of C**"
   ]
  },
  {
   "cell_type": "code",
   "execution_count": 22,
   "metadata": {},
   "outputs": [
    {
     "name": "stdout",
     "output_type": "stream",
     "text": [
      "C\tLogistic_Regression\tLinearSVC\n",
      "0.1\t77.6\t\t\t73.8\n",
      "1.0\t78.3\t\t\t73.8\n",
      "10.0\t76.2\t\t\t73.8\n",
      "50.0\t75.9\t\t\t73.8\n",
      "100.0\t75.9\t\t\t73.8\n"
     ]
    }
   ],
   "source": [
    "#Assuming different values of C for experiment\n",
    "C_list = [0.1,1.0,10.,50.,100.]\n",
    "lr_acr = []\n",
    "ls_acr = []\n",
    "for i in C_list:\n",
    "    clf_logistic1 = get_clf(C=i)\n",
    "    clf_lSVC1 = get_clf_SVC(C=i)\n",
    "    lr_acr.append(do_cross_validation(X, y,clf_logistic1)*100)\n",
    "    ls_acr.append(do_cross_validation(X, y,clf_lSVC)*100)\n",
    "print \"C\\tLogistic_Regression\\tLinearSVC\"\n",
    "for i in range(len(C_list)):\n",
    "    print \"%.1f\\t%.1f\\t\\t\\t%.1f\" %(C_list[i],lr_acr[i],ls_acr[i])"
   ]
  },
  {
   "cell_type": "markdown",
   "metadata": {},
   "source": [
    "**Predict Function for unlabelled Tweets**"
   ]
  },
  {
   "cell_type": "code",
   "execution_count": 23,
   "metadata": {},
   "outputs": [],
   "source": [
    "def prediction(CLF,trained_CSR,trained_label,untrained_tweets_CSR):\n",
    "    CLF.fit(trained_CSR,trained_label)\n",
    "    predicted = CLF.predict(untrained_tweets_CSR)\n",
    "    return predicted"
   ]
  },
  {
   "cell_type": "markdown",
   "metadata": {},
   "source": [
    "**Fit and transform the training data and only tranform the testing data for prediction**"
   ]
  },
  {
   "cell_type": "code",
   "execution_count": 24,
   "metadata": {},
   "outputs": [],
   "source": [
    "vec = do_vectorize()\n",
    "X = vec.fit_transform(x for x in twittertweets)\n",
    "test_tweet_vector = vec.transform(t for t in tweet_test)"
   ]
  },
  {
   "cell_type": "markdown",
   "metadata": {},
   "source": [
    "**Prediction of unlabelled tweets using both classifiers**"
   ]
  },
  {
   "cell_type": "code",
   "execution_count": 25,
   "metadata": {},
   "outputs": [],
   "source": [
    "Tweet_predicted_logistic =prediction(clf_logistic,X,y,test_tweet_vector)\n",
    "Tweet_predicted_linearSVC=prediction(clf_lSVC,X,y,test_tweet_vector)"
   ]
  },
  {
   "cell_type": "markdown",
   "metadata": {},
   "source": [
    "**Results of Predicting the Data**"
   ]
  },
  {
   "cell_type": "code",
   "execution_count": 26,
   "metadata": {},
   "outputs": [],
   "source": [
    "logitic_pred_dict = dict(Counter(Tweet_predicted_logistic))\n",
    "linearsvc_pred_dict = dict(Counter(Tweet_predicted_linearSVC))\n",
    "def print_results(dictionary):\n",
    "    for i in dictionary:\n",
    "        if i == -1:\n",
    "            print \"\\tTweets aganist marijuana\\t\\t%d\" %dictionary[i]\n",
    "        elif i == 0:\n",
    "            print \"\\tNeutral tweets on marijuana\\t\\t%d\" %dictionary[i]\n",
    "        elif i == 1:\n",
    "            print \"\\tPro marijuana tweets\\t\\t\\t%d\" %dictionary[i]\n",
    "        elif i == 2:\n",
    "            print \"\\tTweets supporting its Medical use\\t%d\" %dictionary[i]"
   ]
  },
  {
   "cell_type": "code",
   "execution_count": 27,
   "metadata": {},
   "outputs": [
    {
     "name": "stdout",
     "output_type": "stream",
     "text": [
      "Logistic Regression Results\n",
      "\tNeutral tweets on marijuana\t\t936\n",
      "\tPro marijuana tweets\t\t\t5632\n",
      "\tTweets supporting its Medical use\t1960\n",
      "\tTweets aganist marijuana\t\t928\n"
     ]
    }
   ],
   "source": [
    "print \"Logistic Regression Results\"\n",
    "print_results(logitic_pred_dict)"
   ]
  },
  {
   "cell_type": "code",
   "execution_count": 28,
   "metadata": {},
   "outputs": [
    {
     "name": "stdout",
     "output_type": "stream",
     "text": [
      "LinearSVC Results\n",
      "\tNeutral tweets on marijuana\t\t1272\n",
      "\tPro marijuana tweets\t\t\t5248\n",
      "\tTweets supporting its Medical use\t1936\n",
      "\tTweets aganist marijuana\t\t1000\n"
     ]
    }
   ],
   "source": [
    "print \"LinearSVC Results\"\n",
    "print_results(linearsvc_pred_dict)"
   ]
  },
  {
   "cell_type": "markdown",
   "metadata": {},
   "source": [
    "**Finding the percentage of tweets in each category**"
   ]
  },
  {
   "cell_type": "code",
   "execution_count": 29,
   "metadata": {},
   "outputs": [],
   "source": [
    "def percentage_tweets(dictionary):\n",
    "    sumt = sum(dictionary.values())\n",
    "    percentage = {}\n",
    "    for i in dictionary:\n",
    "        pr = (dictionary[i]*1.0/sumt)*100\n",
    "        percentage[i] = pr\n",
    "    return percentage"
   ]
  },
  {
   "cell_type": "code",
   "execution_count": 30,
   "metadata": {},
   "outputs": [],
   "source": [
    "logistic_precentage = percentage_tweets(logitic_pred_dict)\n",
    "linearsvc_percentage = percentage_tweets(linearsvc_pred_dict)"
   ]
  },
  {
   "cell_type": "code",
   "execution_count": 31,
   "metadata": {},
   "outputs": [],
   "source": [
    "def print_results_percentage(dictionary):\n",
    "    for i in dictionary:\n",
    "        if i == -1:\n",
    "            print \"\\tTweets aganist marijuana\\t\\t%.1f percentage\" %dictionary[i]\n",
    "        elif i == 0:\n",
    "            print \"\\tNeutral tweets on marijuana\\t\\t%.1f percentage\" %dictionary[i]\n",
    "        elif i == 1:\n",
    "            print \"\\tPro marijuana tweets\\t\\t\\t%.1f percentage\" %dictionary[i]\n",
    "        elif i == 2:\n",
    "            print \"\\tTweets supporting its Medical use\\t%.1f percentage\" %dictionary[i]"
   ]
  },
  {
   "cell_type": "code",
   "execution_count": 32,
   "metadata": {},
   "outputs": [
    {
     "name": "stdout",
     "output_type": "stream",
     "text": [
      "Logistic Regression Percentage\n",
      "\tNeutral tweets on marijuana\t\t9.9 percentage\n",
      "\tPro marijuana tweets\t\t\t59.6 percentage\n",
      "\tTweets supporting its Medical use\t20.7 percentage\n",
      "\tTweets aganist marijuana\t\t9.8 percentage\n",
      "LinearSVC Percentage\n",
      "\tNeutral tweets on marijuana\t\t13.5 percentage\n",
      "\tPro marijuana tweets\t\t\t55.5 percentage\n",
      "\tTweets supporting its Medical use\t20.5 percentage\n",
      "\tTweets aganist marijuana\t\t10.6 percentage\n"
     ]
    }
   ],
   "source": [
    "print \"Logistic Regression Percentage\"\n",
    "print_results_percentage(logistic_precentage)\n",
    "print \"LinearSVC Percentage\"\n",
    "print_results_percentage(linearsvc_percentage)"
   ]
  },
  {
   "cell_type": "markdown",
   "metadata": {},
   "source": [
    "**Split users based on their tweet sentiments**"
   ]
  },
  {
   "cell_type": "code",
   "execution_count": 33,
   "metadata": {},
   "outputs": [],
   "source": [
    "def user_sentiment(user_name,Tweet_predicted):\n",
    "    user_senti = {}\n",
    "    for i in  Counter(zip(user_name,Tweet_predicted)):\n",
    "        if i[1] in user_senti:\n",
    "            user_senti[i[1]].append(i[0])\n",
    "        else:\n",
    "            user_senti[i[1]] = [i[0]]\n",
    "    user_sentiment_count =  dict(Counter(zip(user_name,Tweet_predicted)))\n",
    "    for i in user_senti:\n",
    "        seti = set(user_senti[i])\n",
    "        for j in user_senti:\n",
    "            setj = set(user_senti[j])\n",
    "            if i != j:\n",
    "                common = list(seti & setj)\n",
    "                for name in common:\n",
    "                    if user_sentiment_count[(name,i)] > user_sentiment_count[(name,j)]:\n",
    "                        if name in user_senti[j]:\n",
    "                            user_senti[j].remove(name)\n",
    "    return user_senti"
   ]
  },
  {
   "cell_type": "code",
   "execution_count": 34,
   "metadata": {},
   "outputs": [],
   "source": [
    "user_sentiment_logistic = user_sentiment(user_name,Tweet_predicted_logistic)\n",
    "user_sentiment_linearsvc = user_sentiment(user_name,Tweet_predicted_linearSVC)"
   ]
  },
  {
   "cell_type": "markdown",
   "metadata": {},
   "source": [
    "**Find the percentage of user in each category of tweets**"
   ]
  },
  {
   "cell_type": "code",
   "execution_count": 35,
   "metadata": {},
   "outputs": [],
   "source": [
    "def user_sentiment_percentage(dictionary):\n",
    "    user_senti_per = {}\n",
    "    a = dictionary.keys()\n",
    "    b = [len(dictionary[i]) for i in a]\n",
    "    total = sum(b)\n",
    "    for i in range(len(a)):\n",
    "        per = ((1.*b[i])/total)*100\n",
    "        user_senti_per[a[i]] = per\n",
    "    return user_senti_per"
   ]
  },
  {
   "cell_type": "code",
   "execution_count": 36,
   "metadata": {},
   "outputs": [],
   "source": [
    "user_sentiment_logistic_per = user_sentiment_percentage(user_sentiment_logistic)\n",
    "user_sentiment_linearsvc_per = user_sentiment_percentage(user_sentiment_linearsvc)"
   ]
  },
  {
   "cell_type": "code",
   "execution_count": 37,
   "metadata": {},
   "outputs": [],
   "source": [
    "def print_graph(title,dictionary):\n",
    "    a = dictionary.keys()\n",
    "    senti = []\n",
    "    y = [i for i in range(len(a))]\n",
    "    for x in a:\n",
    "        if x == -1:\n",
    "            senti.append('Against')\n",
    "        elif x == 0:\n",
    "            senti.append('Neutral')\n",
    "        elif x == 1:\n",
    "            senti.append('Pro')\n",
    "        elif x == 2:\n",
    "            senti.append('Medicinal')\n",
    "    values = [dictionary[i] for i in a]\n",
    "\n",
    "    plt.bar(y,values, align='center')\n",
    "    plt.xticks(y, senti)\n",
    "    plt.title(title)\n",
    "    plt.show()"
   ]
  },
  {
   "cell_type": "code",
   "execution_count": 38,
   "metadata": {},
   "outputs": [
    {
     "data": {
      "image/png": "[encoded data removed]"
     },
     "output_type": "display_data",
     "metadata": {}
    },
    {
     "data": {
      "image/png": "[encoded data removed]"
     },
     "output_type": "display_data",
     "metadata": {}
    }
   ],
   "source": [
    "print_graph('User analysis on Tweet Sentiment by Logistic Regression',user_sentiment_logistic_per)\n",
    "print_graph('User analysis on Tweet Sentiment by LinearSVC Regression',user_sentiment_linearsvc_per)"
   ]
  },
  {
   "cell_type": "markdown",
   "metadata": {},
   "source": [
    "**Find the ethinicity of the users by user's last name**"
   ]
  },
  {
   "cell_type": "code",
   "execution_count": 39,
   "metadata": {},
   "outputs": [],
   "source": [
    "ethnicities = {'hispanic':0, 'black':1, 'white':2, 'indians':3, 'asian_pacific_islander':4}"
   ]
  },
  {
   "cell_type": "markdown",
   "metadata": {},
   "source": [
    "**Scrape data from mongobay website and obtain first 1000 ranks of each ethnicity**"
   ]
  },
  {
   "cell_type": "code",
   "execution_count": 40,
   "metadata": {},
   "outputs": [],
   "source": [
    "if False:\n",
    "    def scrape():\n",
    "\n",
    "        f = open('names.csv', 'w')\n",
    "        f.write('name,type,rank\\n')\n",
    "        for ethnicity in ethnicities.keys():\n",
    "            url = \"http://names.mongabay.com/data/\"+ethnicity+\".html\"\n",
    "            request = urllib2.Request(url,headers={'User-Agent' : \"Magic Browser\"})\n",
    "            opener = urllib2.build_opener()\n",
    "            data = opener.open(request).read()\n",
    "            data = data[data.find('<tr><td>1</td>'):]\n",
    "            data = data[:data.find('Compiled by <a itemprop=')]\n",
    "            for i in range(1,1001):\n",
    "                data = data[data.find('>' + str(i) + '</td>') + 7:]\n",
    "                f.write(data[data.find('td') + 3: data.find('</td>')].lower() + \",\" + ethnicity + \",\" + str(i))\n",
    "                f.write('\\n')\n",
    "                data = data[20:]\n",
    "        f.close()\n",
    "\n",
    "    scrape()"
   ]
  },
  {
   "cell_type": "markdown",
   "metadata": {},
   "source": [
    "**Train the data from names.csv and prdict the ethnicity based on the last name**"
   ]
  },
  {
   "cell_type": "code",
   "execution_count": 41,
   "metadata": {},
   "outputs": [],
   "source": [
    "def wordToBinary(word, weight=1):\n",
    "    arrDict = []\n",
    "    for i in range(int(ord('a')), int(ord('z') + 1)):\n",
    "        arrDict += [int(word.count(chr(i))) * weight]\n",
    "    return arrDict\n",
    "\n",
    "data = pd.read_csv('names.csv')\n",
    "train = []\n",
    "target = []\n",
    "for index, row in data.iterrows():\n",
    "    name = row['name']\n",
    "    if isinstance(name, str) and row['type'] in ethnicities.keys():\n",
    "        train += [wordToBinary(name, 1 - (1000 - int(row['rank'])) / 1000.0 * 0.2)]\n",
    "        target += [ethnicities[row['type']]]\n",
    "\n",
    "assert(len(train) == len(target))\n",
    "\n",
    "X = np.array(train)\n",
    "y = np.array(target)\n",
    "clf = neighbors.KNeighborsClassifier(20, weights='distance')\n",
    "clf.fit(X, y)\n",
    "with open('K-neighbor.txt', 'wb') as output:\n",
    "    pickle.dump(clf, output, pickle.HIGHEST_PROTOCOL)"
   ]
  },
  {
   "cell_type": "code",
   "execution_count": 42,
   "metadata": {},
   "outputs": [],
   "source": [
    "clf = None\n",
    "with open('K-neighbor.txt', 'rb') as input:\n",
    "    clf = pickle.load(input)\n",
    "\n",
    "\n",
    "def predict(name):\n",
    "    result = clf.predict([wordToBinary(name)])\n",
    "    for race, value in ethnicities.iteritems():\n",
    "        if value == result[0]:\n",
    "            return race\n",
    "dicteth={}\n",
    "lt=[]\n",
    "last=[]\n",
    "for label in user_sentiment_logistic:\n",
    "    for i in user_sentiment_logistic[label]:\n",
    "        name=i.split()\n",
    "        if len(name) > 1:\n",
    "            fname=name[0]\n",
    "            lname=name[1]\n",
    "            if lname:\n",
    "                predicted=predict(lname)\n",
    "                lt.append(predicted)\n",
    "                dicteth[i]=predicted\n",
    "ctr= Counter(lt)"
   ]
  },
  {
   "cell_type": "code",
   "execution_count": 43,
   "metadata": {},
   "outputs": [
    {
     "data": {
      "image/png": "[encoded data removed]"
     },
     "output_type": "display_data",
     "metadata": {}
    }
   ],
   "source": [
    "import pylab as plt\n",
    "\n",
    "a= range(5)\n",
    "b = ctr.values()\n",
    "LABELS = [\"hispanic\",\"white\",\"american-indians\",\"afro-americans\",\"asia-pacific-islanders\"]\n",
    "\n",
    "plt.bar(a,b, align='center')\n",
    "plt.xticks(a, LABELS)\n",
    "plt.xticks(a,rotation = '45')\n",
    "plt.show()"
   ]
  },
  {
   "cell_type": "markdown",
   "metadata": {},
   "source": [
    "**Find the gender of user based on the names in the zip file**"
   ]
  },
  {
   "cell_type": "code",
   "execution_count": 44,
   "metadata": {},
   "outputs": [],
   "source": [
    "zf=ZipFile('names.zip', 'r')\n",
    "filenames=zf.namelist()\n",
    "\n",
    "names=dict()\n",
    "genderMap={'M':0,'F':1}\n",
    "male_names_dict ={}\n",
    "female_names_dict ={}\n",
    "for filename in filenames:\n",
    "    file=zf.open(filename,'r')\n",
    "    rows=csv.reader(file, delimiter=',')\n",
    "    for row in rows:\n",
    "        gender=genderMap[row[1]]\n",
    "        if gender == 0:\n",
    "            name=row[0].lower()\n",
    "            count=int(row[2])\n",
    "            male_names_dict[name] = count\n",
    "        elif gender == 1:\n",
    "            name=row[0].lower()\n",
    "            count=int(row[2])\n",
    "            female_names_dict[name] = count   \n",
    "\n",
    "    file.close()"
   ]
  },
  {
   "cell_type": "code",
   "execution_count": 45,
   "metadata": {},
   "outputs": [],
   "source": [
    "def gender_by_name(user_name, male_names, female_names):\n",
    "    gender_list = []\n",
    "    for name in user_name:\n",
    "        if name:\n",
    "            first = name.split()[0].lower()\n",
    "            if first in male_names:\n",
    "                gender_list.append((name,'male'))\n",
    "            elif first in female_names:\n",
    "                gender_list.append((name,'female'))\n",
    "            else:\n",
    "                gender_list.append((name,'unknown'))\n",
    "    return gender_list\n",
    "gender_list = gender_by_name(user_name, male_names_dict, female_names_dict)"
   ]
  },
  {
   "cell_type": "code",
   "execution_count": 46,
   "metadata": {},
   "outputs": [],
   "source": [
    "male = []\n",
    "female = []\n",
    "unknown = []\n",
    "for i in Counter(gender_list).keys():\n",
    "    if i[1] == 'male':\n",
    "        male.append(i[0])\n",
    "    elif i[1] == 'female':\n",
    "        female.append(i[0])\n",
    "    elif i[1] == 'unknown':\n",
    "        unknown.append(i[0])"
   ]
  },
  {
   "cell_type": "markdown",
   "metadata": {},
   "source": [
    "**Find the percentage of users based on gender**"
   ]
  },
  {
   "cell_type": "code",
   "execution_count": 47,
   "metadata": {},
   "outputs": [
    {
     "name": "stdout",
     "output_type": "stream",
     "text": [
      "Percentage of male tweets\t\t34.23\n",
      "Percentage of female tweets\t\t6.04\n",
      "Percentage of tweets from unknown\t59.73\n"
     ]
    }
   ],
   "source": [
    "total_gender = len(male+female+unknown)\n",
    "genderpercentage = []\n",
    "genderpercentage.append((1.*len(male)/total_gender)*100)\n",
    "print \"Percentage of male tweets\\t\\t%.2f\" %((1.*len(male)/total_gender)*100)\n",
    "genderpercentage.append((1.*len(female)/total_gender)*100)\n",
    "print \"Percentage of female tweets\\t\\t%.2f\" %((1.*len(female)/total_gender)*100)\n",
    "genderpercentage.append((1.*len(unknown)/total_gender)*100)\n",
    "print \"Percentage of tweets from unknown\\t%.2f\" %((1.*len(unknown)/total_gender)*100)"
   ]
  },
  {
   "cell_type": "markdown",
   "metadata": {},
   "source": [
    "**Segregate the user's gender on their sentiments**"
   ]
  },
  {
   "cell_type": "code",
   "execution_count": 48,
   "metadata": {},
   "outputs": [],
   "source": [
    "def user_sentiment_gender(user_sentiment):\n",
    "    user_sentiment_count = {}\n",
    "    for i in user_sentiment:\n",
    "        count_list = []\n",
    "        mc = 0 \n",
    "        fc = 0\n",
    "        uc = 0\n",
    "        for j in user_sentiment[i]:\n",
    "            if j in male:\n",
    "                mc = mc + 1\n",
    "            elif j in female:\n",
    "                fc = fc+1\n",
    "            elif j in unknown:\n",
    "                uc = uc + 1\n",
    "        count_list.append(mc)\n",
    "        count_list.append(fc)\n",
    "        count_list.append(uc)\n",
    "        user_sentiment_count[i] = count_list\n",
    "    return user_sentiment_count\n",
    "user_sentiment_count = user_sentiment_gender(user_sentiment_logistic)"
   ]
  },
  {
   "cell_type": "code",
   "execution_count": 49,
   "metadata": {},
   "outputs": [],
   "source": [
    "user_sentiment_percentage ={}\n",
    "for i in user_sentiment_count:\n",
    "    total = 1.*sum(user_sentiment_count[i])\n",
    "    per_list = []\n",
    "    for j in user_sentiment_count[i]:\n",
    "        per = (1.*j/total)*100\n",
    "        per_list.append(per)\n",
    "    user_sentiment_percentage[i] = per_list"
   ]
  },
  {
   "cell_type": "code",
   "execution_count": 50,
   "metadata": {},
   "outputs": [],
   "source": [
    "def print_piechart(key,value):\n",
    "    figure(1, figsize=(8,8))\n",
    "    ax = axes([0.1, 0.1, 0.5, 0.5])\n",
    "    labels = ['Male', 'Female', 'Unknown']\n",
    "    if key == -1:\n",
    "        title1 = 'Tweets Aganist Marijuana'\n",
    "    elif key == 0:\n",
    "        title1 = 'Neutral Sentiment Tweets on Marijuana'\n",
    "    elif key == 1:\n",
    "        title1 = 'Pro Marijuana Tweets'\n",
    "    elif key == 2:\n",
    "        title1 = 'Tweets Supporting its Medinical Use'\n",
    "    title(title1, bbox={'facecolor':'0.8', 'pad':5})\n",
    "    explode = [0.1]*len(labels)\n",
    "    pie(value,explode = explode,labels=labels,\n",
    "                autopct='%1.1f%%', shadow=True, startangle=90)\n",
    "    show()"
   ]
  },
  {
   "cell_type": "code",
   "execution_count": 51,
   "metadata": {},
   "outputs": [
    {
     "data": {
      "image/png": "[encoded data removed]"
     },
     "output_type": "display_data",
     "metadata": {}
    },
    {
     "data": {
      "image/png": "[encoded data removed]"
     },
     "output_type": "display_data",
     "metadata": {}
    },
    {
     "data": {
      "image/png": "[encoded data removed]"
     },
     "output_type": "display_data",
     "metadata": {}
    },
    {
     "data": {
      "image/png": "[encoded data removed]"
     },
     "output_type": "display_data",
     "metadata": {}
    }
   ],
   "source": [
    "for i in user_sentiment_percentage:\n",
    "    print_piechart(i,user_sentiment_percentage[i])"
   ]
  },
  {
   "cell_type": "code",
   "execution_count": 52,
   "metadata": {},
   "outputs": [],
   "source": [
    "import json\n",
    "outf = open('output.txt', 'wt')\n",
    "json.dump({\n",
    "           'total_tweets': len(tweet_test),\n",
    "           'logistic_regression_accuracy': logistic_regression_accuracy,\n",
    "           'linear_regression_accuracy': linear_regression_accuracy,\n",
    "           'Logistic Regression Results':logitic_pred_dict,\n",
    "           'LinearSVC Results':linearsvc_pred_dict,\n",
    "            'Logistic Regression Percentage': logistic_precentage,\n",
    "            'LinearSVC Percentage':linearsvc_percentage,\n",
    "            'pecenatge_user_each_sentiment_logistic':user_sentiment_logistic_per,\n",
    "            'pecenatge_user_each_sentiment_linearSVC':user_sentiment_linearsvc_per,\n",
    "            'percentage_from_each_gender(male,female,unknown)':genderpercentage,\n",
    "            'percentage_from_each_gender_each_sentiment(male,female,unknown)':user_sentiment_percentage\n",
    "          },\n",
    "          outf, indent=2, sort_keys=True)\n",
    "outf.close()"
   ]
  }
 ],
 "metadata": {
  "kernelspec": {
   "display_name": "Python 2",
   "language": "python",
   "name": "python2"
  },
  "language_info": {
   "codemirror_mode": {
    "name": "ipython",
    "version": 2.0
   },
   "file_extension": ".py",
   "mimetype": "text/x-python",
   "name": "python",
   "nbconvert_exporter": "python",
   "pygments_lexer": "ipython2",
   "version": "2.7.10"
  }
 },
 "nbformat": 4,
 "nbformat_minor": 0
}